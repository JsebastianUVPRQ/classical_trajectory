{
 "cells": [
  {
   "cell_type": "code",
   "execution_count": 6,
   "metadata": {},
   "outputs": [
    {
     "name": "stdout",
     "output_type": "stream",
     "text": [
      "[[105  25  70 215 178]\n",
      " [158  89 252 202 198]\n",
      " [ 34   3 194 229  62]\n",
      " [102  65   4  99 152]\n",
      " [ 86 245  24  83  36]]\n",
      "(5, 5)\n",
      "[[    377    1499    6387   28119  131116]\n",
      " [    686    4149   20939  102621  516268]\n",
      " [    979    7812   46307  254152 1370429]\n",
      " [   1480   12679   83545  497174 2815671]\n",
      " [   1876   16308  112738  693728 4006609]]\n"
     ]
    }
   ],
   "source": [
    "import numpy as np\n",
    "import cv2\n",
    "\n",
    "def convolucion(img, kernel):\n",
    "    '''\n",
    "    This function applies a convolution to an image\n",
    "    '''\n",
    "    alto = img.shape[0]\n",
    "    ancho = img.shape[1]\n",
    "    \n",
    "    altoKernel = kernel.shape[0]\n",
    "    anchoKernel = kernel.shape[1]\n",
    "\n",
    "    # bucles\n",
    "    for x in range(ancho):\n",
    "        for y in range(alto):\n",
    "            suma = 0\n",
    "            for i in range(altoKernel):\n",
    "                for j in range(anchoKernel):\n",
    "                    if y + i - 1 >= 0 and x + j - 1 >= 0:\n",
    "                        try:\n",
    "                            suma += img[y + i - 1, x + j - 1] * kernel[i, j]\n",
    "                        except:\n",
    "                            pass\n",
    "            img[y, x] = suma\n",
    "    return img\n",
    "\n",
    "\n",
    "# creemos una imagen de pixeles random para ejemplificar\n",
    "imagen_ejemplo = np.random.randint(0, 255, (5, 5))\n",
    "print(imagen_ejemplo)\n",
    "# Dimensiones:\n",
    "print(imagen_ejemplo.shape)\n",
    "\n",
    "kernel_ej = np.array([[1, 1, 1], [1, 1, 1], [1, 1, 1]])\n",
    "imagen_procesada = convolucion(imagen_ejemplo, kernel_ej)\n",
    "print(imagen_procesada)\n",
    "print(imagen_procesada.shape)"
   ]
  }
 ],
 "metadata": {
  "kernelspec": {
   "display_name": "VSCode",
   "language": "python",
   "name": "python3"
  },
  "language_info": {
   "codemirror_mode": {
    "name": "ipython",
    "version": 3
   },
   "file_extension": ".py",
   "mimetype": "text/x-python",
   "name": "python",
   "nbconvert_exporter": "python",
   "pygments_lexer": "ipython3",
   "version": "3.10.13"
  }
 },
 "nbformat": 4,
 "nbformat_minor": 2
}
