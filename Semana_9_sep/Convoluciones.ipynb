{
 "cells": [
  {
   "cell_type": "code",
   "execution_count": 7,
   "metadata": {},
   "outputs": [
    {
     "name": "stdout",
     "output_type": "stream",
     "text": [
      "[[ 82 181 239  93 203]\n",
      " [239 120   8  34 169]\n",
      " [ 63 150 215 227 254]\n",
      " [109 107 121  73  57]\n",
      " [  4  86  61 175  35]]\n",
      "(5, 5)\n",
      "[[    622    2545   10117   44531  210563]\n",
      " [   1375    7198   33915  165660  835210]\n",
      " [   1924   13478   76210  414033 2228419]\n",
      " [   2380   20949  137468  813205 4591589]\n",
      " [   2577   26174  184900 1135840 6540669]]\n",
      "(5, 5)\n"
     ]
    }
   ],
   "source": [
    "import numpy as np\n",
    "import cv2\n",
    "\n",
    "'''\n",
    "pseudocodigo:\n",
    "for each image row in input image:\n",
    "    for each pixel in image row:\n",
    "        set accumulator to zero\n",
    "        for each kernel row in kernel:\n",
    "            for each element in kernel row:\n",
    "                if element position  corresponding to pixel position then\n",
    "                    multiply element value  corresponding to pixel value\n",
    "                    add result to accumulator\n",
    "                endif\n",
    "                    \n",
    "        set output image pixel to accumulator\n",
    "''' \n",
    "        \n",
    "# Ahora traduzcamos este pseudocodigo a python\n",
    "\n",
    "import numpy as np\n",
    "import cv2\n",
    "\n",
    "def convolucion(img, kernel):\n",
    "    '''\n",
    "    This function applies a convolution to an image\n",
    "    '''\n",
    "    alto = img.shape[0]\n",
    "    ancho = img.shape[1]\n",
    "    \n",
    "    AltoKernel = kernel.shape[0]\n",
    "    AnchoKernel = kernel.shape[1]\n",
    "\n",
    "    # bucles\n",
    "    for x in range(ancho):\n",
    "        for y in range(alto):\n",
    "            suma = 0\n",
    "            for i in range(AltoKernel):\n",
    "                for j in range(AnchoKernel):\n",
    "                    if y + i - 1 >= 0 and x + j - 1 >= 0:\n",
    "                        try:\n",
    "                            suma += img[y + i - 1, x + j - 1] * kernel[i, j]\n",
    "                        except IndexError:\n",
    "                            pass\n",
    "            img[y, x] = suma\n",
    "    return img\n",
    "\n",
    "\n",
    "# creemos una imagen de pixeles random para ejemplificar\n",
    "imagen_ejemplo = np.random.randint(0, 255, (5, 5))\n",
    "print(imagen_ejemplo)\n",
    "# Dimensiones:\n",
    "print(imagen_ejemplo.shape)\n",
    "\n",
    "kernel_ej = np.array([[1, 1, 1], [1, 1, 1], [1, 1, 1]])\n",
    "imagen_procesada = convolucion(imagen_ejemplo, kernel_ej)\n",
    "print(imagen_procesada)\n",
    "print(imagen_procesada.shape)\n",
    "\n",
    "\n",
    "# imagen = cv2.imread('images/imagen.jpg', 0)"
   ]
  }
 ],
 "metadata": {
  "kernelspec": {
   "display_name": "VSCode",
   "language": "python",
   "name": "python3"
  },
  "language_info": {
   "codemirror_mode": {
    "name": "ipython",
    "version": 3
   },
   "file_extension": ".py",
   "mimetype": "text/x-python",
   "name": "python",
   "nbconvert_exporter": "python",
   "pygments_lexer": "ipython3",
   "version": "3.10.13"
  }
 },
 "nbformat": 4,
 "nbformat_minor": 2
}
