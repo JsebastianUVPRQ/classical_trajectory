{
 "cells": [
  {
   "cell_type": "code",
   "execution_count": null,
   "metadata": {},
   "outputs": [],
   "source": [
    "import numpy as np\n",
    "import cv2\n",
    "\n",
    "def convolucion(img, kernel):\n",
    "    alto = img.shape[0]\n",
    "    ancho = img.shape[1]\n",
    "    \n",
    "    altoKernel = kernel.shape[0]\n",
    "    anchoKernel = kernel.shape[1]\n",
    "\n",
    "    # bucles\n",
    "    for x in range(ancho):\n",
    "        for y in range(alto):\n",
    "            suma = 0\n",
    "            for i in range(altoKernel):\n",
    "                for j in range(anchoKernel):\n",
    "                    if y + i - 1 >= 0 and x + j - 1 >= 0:\n",
    "                        try:\n",
    "                            suma += img[y + i - 1, x + j - 1] * kernel[i, j]\n",
    "                        except:\n",
    "                            pass\n",
    "            img[y, x] = suma\n",
    "    return img\n",
    "\n",
    "# creemos una imagen de pixeles random para ejemplificar\n",
    "imagen_ejemplo = np.random.randint(0, 255, (5, 5))\n",
    "kernel = np.array([[1, 1, 1], [1, 1, 1], [1, 1, 1]])\n",
    "imagen_procesada = convolucion(imagen_ejemplo, kernel)\n",
    "print(imagen_procesada)"
   ]
  }
 ],
 "metadata": {
  "language_info": {
   "name": "python"
  }
 },
 "nbformat": 4,
 "nbformat_minor": 2
}
