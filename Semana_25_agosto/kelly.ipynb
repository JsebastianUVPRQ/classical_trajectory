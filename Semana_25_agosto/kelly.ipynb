{
 "cells": [
  {
   "cell_type": "code",
   "execution_count": 37,
   "metadata": {},
   "outputs": [
    {
     "name": "stdout",
     "output_type": "stream",
     "text": [
      "f(1+1) = 9\n",
      "f(1-1) = 1\n",
      "f(1+0.1) = 2.3310000000000004\n",
      "f(1-0.1) = 1.729\n",
      "f(1+0.01) = 2.030301\n",
      "f(1-0.01) = 1.970299\n",
      "f(1+0.001) = 2.0030030009999997\n",
      "f(1-0.001) = 1.997002999\n"
     ]
    }
   ],
   "source": [
    "import numpy as np\n",
    "\n",
    "# calcular e imprimir los valores de la función f(x) y h(x) para x = a+h y x = a-h\n",
    "# donde a es un valor dado y h es [0.1, 0.01, 0.001]\n",
    "\n",
    "def f(x):\n",
    "    return x**3+1\n",
    "\n",
    "def calcular_valores(a, h):\n",
    "    print(f\"f({a}+{h}) = {f(a+h)}\")\n",
    "    print(f\"f({a}-{h}) = {f(a-h)}\")\n",
    "    \n",
    "a = 1\n",
    "h = [1, 0.1, 0.01, 0.001]\n",
    "for i in h:\n",
    "    calcular_valores(a, i)\n",
    "    \n",
    "# f(0+0.1) = 0.09983341664682815\n"
   ]
  }
 ],
 "metadata": {
  "kernelspec": {
   "display_name": "VSCode",
   "language": "python",
   "name": "python3"
  },
  "language_info": {
   "codemirror_mode": {
    "name": "ipython",
    "version": 3
   },
   "file_extension": ".py",
   "mimetype": "text/x-python",
   "name": "python",
   "nbconvert_exporter": "python",
   "pygments_lexer": "ipython3",
   "version": "3.10.13"
  }
 },
 "nbformat": 4,
 "nbformat_minor": 2
}
