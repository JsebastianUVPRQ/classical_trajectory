Celda de texto <x2YZDQOXqyTQ>
# %% [markdown]


Celda de texto <UEwrAmPYnHcj>
# %% [markdown]
La actividad de Python se divide en 2 partes, para cada parte al final del código debe exportar el archivo Excel de respuesta:

**Parte 1**

Realizar un código en el cual al cruzar la pestaña llamada AKPAS del archivo de prueba con la maestra de PDV pueda traer el **PDV liquidacion** y finalmente generar un Excel agrupando de acuerdo al nombre del PDV el total de unidades y valor vendido.

**Parte 2**

Con base en el siguiente código, completarlo para que pueda cruzar el df_exito con la maestra de PDV para traer el **PDV liquiedacion** y exportar en un excel la base de exito resultante despues del cruce.

Celda de código <BgJl6-90wpGG>
# %% [code]
import pandas as pd
#Carga
archivo_prueba = r'D:\Cursos\Phyton\Prueba Eficacia\Base prueba tecnica python (1).xlsx'
maestra_pdv = r"D:\Cursos\Phyton\Prueba Eficacia\MAESTRA PDV (2).xlsx"

#hojas
df_akpas = pd.read_excel(archivo_prueba, sheet_name='AKPAS')
df_maestra_pdv = pd.read_excel(maestra_pdv)

df_merged = pd.merge(df_akpas, df_maestra_pdv, left_on='UN', right_on='PDV',
                     how='inner')

resultado = df_merged.groupby('PDV').agg(
    Total_Unidades=('Unidades', 'sum'),
    Total_Valor=('Neto', 'sum')
).reset_index()

# Guardar el resultado en un nuevo archivo Excel
resultado.to_excel('resultado_pdv.xlsx', index=False)

print("Archivo generado: resultado_pdv.xlsx")


#hojas
df_akpas = pd.read_excel(archivo_prueba, sheet_name='AKPAS')
df_maestra_pdv = pd.read_excel(maestra_pdv)

df_merged = pd.merge(df_akpas, df_maestra_pdv, left_on='UN', right_on='PDV', how='inner')

resultado = df_merged.groupby('PDV').agg(
    Total_Unidades=('Unidades', 'sum'),
    Total_Valor=('Neto', 'sum')
).reset_index()

# Guardar el resultado en un nuevo archivo Excel
resultado.to_excel('resultado_pdv.xlsx', index=False)

print("Archivo generado: resultado_pdv.xlsx")

Resultado de la ejecución del 21 nov 2024 9:26
6KB
	Error
		FileNotFoundError
		---------------------------------------------------------------------------
		FileNotFoundError                         Traceback (most recent call last)
		<ipython-input-1-e87e14213998> in <cell line: 7>()
		      5 
		      6 #hojas
		----> 7 df_akpas = pd.read_excel(archivo_prueba, sheet_name='AKPAS')
		      8 df_maestra_pdv = pd.read_excel(maestra_pdv)
		      9 
		
		/usr/local/lib/python3.10/dist-packages/pandas/io/excel/_base.py in read_excel(io, sheet_name, header, names, index_col, usecols, dtype, engine, converters, true_values, false_values, skiprows, nrows, na_values, keep_default_na, na_filter, verbose, parse_dates, date_parser, date_format, thousands, decimal, comment, skipfooter, storage_options, dtype_backend, engine_kwargs)
		    493     if not isinstance(io, ExcelFile):
		    494         should_close = True
		--> 495         io = ExcelFile(
		    496             io,
		    497             storage_options=storage_options,
		
		/usr/local/lib/python3.10/dist-packages/pandas/io/excel/_base.py in __init__(self, path_or_buffer, engine, storage_options, engine_kwargs)
		   1548                 ext = "xls"
		   1549             else:
		-> 1550                 ext = inspect_excel_format(
		   1551                     content_or_path=path_or_buffer, storage_options=storage_options
		   1552                 )
		
		/usr/local/lib/python3.10/dist-packages/pandas/io/excel/_base.py in inspect_excel_format(content_or_path, storage_options)
		   1400         content_or_path = BytesIO(content_or_path)
		   1401 
		-> 1402     with get_handle(
		   1403         content_or_path, "rb", storage_options=storage_options, is_text=False
		   1404     ) as handle:
		
		/usr/local/lib/python3.10/dist-packages/pandas/io/common.py in get_handle(path_or_buf, mode, encoding, compression, memory_map, is_text, errors, storage_options)
		    880         else:
		    881             # Binary mode
		--> 882             handle = open(handle, ioargs.mode)
		    883         handles.append(handle)
		    884 
		
		FileNotFoundError: [Errno 2] No such file or directory: 'D:\\Cursos\\Phyton\\Prueba Eficacia\\Base prueba tecnica python (1).xlsx'

Celda de código <R9Xt7afBvEoY>
# %% [code]
def exito():
  df_exito = pd.read_excel(ruta_ventas, sheet_name='EXITO')
    # Eliminar los espacios en blanco al principio y al final de los datos en todas las columnas
  df_exito = df_exito.applymap(lambda x: x.strip() if isinstance(x, str) else x)
  # renombrar las columnas
  df_exito = df_exito.rename(
      columns={
          "Referencia": "SKU",
          "GTIN (Código EAN/UPC) del Item": "EAN",
          "Cantidad Vendida": "Cantidad"
      })
  # Add a column with the sheet name
  df_exito['RETAIL'] = 'EXITO'
  # filtrar solo las columnas que se necesitan
  df_exito = df_exito[[
      'RETAIL', 'SKU', 'EAN', 'Descripción Punto de Venta', 'Categoría', 'Cantidad',
      'Vta Total'
  ]]
  df_exito['Vta Total'] = pd.to_numeric(df_exito['Vta Total'], errors='coerce')
  df_exito['Vta Total'] = df_exito['Vta Total'].round(0).astype(int)
  # Convert to integer without using apply
  df_exito['Vta Total'] = df_exito['Vta Total'].astype(int)
  return df_exito

Celda de código <uCRC9X3-jN5h>
# %% [code]
import pandas as pd
archivo_base= 'Base prueba tecnica python 2.xlsx'
maestra_pdv = 'MAESTRA PDV (2).xlsx'


akpas_df = pd.read_excel(archivo_base, sheet_name='AKPAS')
maestra_pdv = pd.read_excel(maestra_pdv)

print(maestra_pdv.columns)
print(akpas_df.columns)

akpas_df = akpas_df.rename(columns={'UN': 'PDV'})

cruce = akpas_df.merge(maestra_pdv, on='PDV', how='left')

resultado = cruce.groupby('PDV LIQUIDACION').agg({
    'Unidades': 'sum',
    'Neto': 'sum'
}).reset_index()
Resultado de la ejecución del 6 ago 2024 7:53
0KB
	Stream
		Index(['PDV', 'PDV LIQUIDACION', 'CANAL'], dtype='object')
		Index(['UN', 'Fecha', 'ID Prod', 'Descripcion', 'Unidades', 'Neto', 'SKU'], dtype='object')

Celda de código <I4ElcceHmV1x>
# %% [code]
print(cruce.columns)
Resultado de la ejecución del 6 ago 2024 7:53
0KB
	Stream
		Index(['PDV', 'Fecha', 'ID Prod', 'Descripcion', 'Unidades', 'Neto', 'SKU',
		       'PDV LIQUIDACION', 'CANAL'],
		      dtype='object')

Celda de código <-6Wbwx4fjwhY>
# %% [code]
# archivo Excel
resultado.to_excel('resultado.xlsx', index=False)


