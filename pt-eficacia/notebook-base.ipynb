{
  "nbformat": 4,
  "nbformat_minor": 0,
  "metadata": {
    "colab": {
      "provenance": []
    },
    "kernelspec": {
      "name": "python3",
      "display_name": "Python 3"
    },
    "language_info": {
      "name": "python"
    }
  },
  "cells": [
    {
      "cell_type": "code",
      "execution_count": null,
      "metadata": {
        "id": "qcPsz8vThDPl"
      },
      "outputs": [],
      "source": []
    },
    {
      "cell_type": "markdown",
      "source": [
        "La actividad de Python se divide en 2 partes, para cada parte al final del código debe exportar el archivo Excel de respuesta:\n",
        "\n",
        "**Parte 1**\n",
        "\n",
        "Realizar un código en el cual al cruzar la pestaña llamada AKPAS del archivo de prueba con la maestra de PDV pueda traer el **PDV liquidacion** y finalmente generar un Excel agrupando de acuerdo al nombre del PDV el total de unidades y valor vendido.\n",
        "\n",
        "**Parte 2**\n",
        "\n",
        "Con base en el siguiente código, completarlo para que pueda cruzar el df_exito con la maestra de PDV para traer el **PDV liquiedacion** y exportar en un excel la base de exito resultante despues del cruce."
      ],
      "metadata": {
        "id": "UEwrAmPYnHcj"
      }
    },
    {
      "cell_type": "code",
      "source": [
        "def exito():\n",
        "  df_exito = pd.read_excel(ruta_ventas, sheet_name='EXITO')\n",
        "    # Eliminar los espacios en blanco al principio y al final de los datos en todas las columnas\n",
        "  df_exito = df_exito.applymap(lambda x: x.strip() if isinstance(x, str) else x)\n",
        "  # renombrar las columnas\n",
        "  df_exito = df_exito.rename(\n",
        "      columns={\n",
        "          \"Referencia\": \"SKU\",\n",
        "          \"GTIN (Código EAN/UPC) del Item\": \"EAN\",\n",
        "          \"Cantidad Vendida\": \"Cantidad\"\n",
        "      })\n",
        "  # Add a column with the sheet name\n",
        "  df_exito['RETAIL'] = 'EXITO'\n",
        "  # filtrar solo las columnas que se necesitan\n",
        "  df_exito = df_exito[[\n",
        "      'RETAIL', 'SKU', 'EAN', 'Descripción Punto de Venta', 'Categoría', 'Cantidad',\n",
        "      'Vta Total'\n",
        "  ]]\n",
        "  df_exito['Vta Total'] = pd.to_numeric(df_exito['Vta Total'], errors='coerce')\n",
        "  df_exito['Vta Total'] = df_exito['Vta Total'].round(0).astype(int)\n",
        "  # Convert to integer without using apply\n",
        "  df_exito['Vta Total'] = df_exito['Vta Total'].astype(int)\n",
        "  return df_exito"
      ],
      "metadata": {
        "id": "R9Xt7afBvEoY"
      },
      "execution_count": null,
      "outputs": []
    },
    {
      "cell_type": "code",
      "source": [
        "import pandas as pd\n",
        "archivo_base= 'Base prueba tecnica python 2.xlsx'\n",
        "maestra_pdv = 'MAESTRA PDV (2).xlsx'\n",
        "\n",
        "\n",
        "akpas_df = pd.read_excel(archivo_base, sheet_name='AKPAS')\n",
        "maestra_pdv = pd.read_excel(maestra_pdv)\n",
        "\n",
        "print(maestra_pdv.columns)\n",
        "print(akpas_df.columns)\n",
        "\n",
        "akpas_df = akpas_df.rename(columns={'UN': 'PDV'})\n",
        "\n",
        "cruce = akpas_df.merge(maestra_pdv, on='PDV', how='left')\n",
        "\n",
        "resultado = cruce.groupby('PDV LIQUIDACION').agg({\n",
        "    'Unidades': 'sum',\n",
        "    'Neto': 'sum'\n",
        "}).reset_index()"
      ],
      "metadata": {
        "colab": {
          "base_uri": "https://localhost:8080/"
        },
        "id": "uCRC9X3-jN5h",
        "outputId": "52657dce-f972-47d2-9e45-6cc0a261b964"
      },
      "execution_count": null,
      "outputs": [
        {
          "output_type": "stream",
          "name": "stdout",
          "text": [
            "Index(['PDV', 'PDV LIQUIDACION', 'CANAL'], dtype='object')\n",
            "Index(['UN', 'Fecha', 'ID Prod', 'Descripcion', 'Unidades', 'Neto', 'SKU'], dtype='object')\n"
          ]
        }
      ]
    },
    {
      "cell_type": "code",
      "source": [
        "print(cruce.columns)"
      ],
      "metadata": {
        "colab": {
          "base_uri": "https://localhost:8080/"
        },
        "id": "I4ElcceHmV1x",
        "outputId": "27296fdf-3199-4ead-dbe8-dc1868bef0fe"
      },
      "execution_count": null,
      "outputs": [
        {
          "output_type": "stream",
          "name": "stdout",
          "text": [
            "Index(['PDV', 'Fecha', 'ID Prod', 'Descripcion', 'Unidades', 'Neto', 'SKU',\n",
            "       'PDV LIQUIDACION', 'CANAL'],\n",
            "      dtype='object')\n"
          ]
        }
      ]
    },
    {
      "cell_type": "code",
      "source": [
        "# archivo Excel\n",
        "resultado.to_excel('resultado.xlsx', index=False)"
      ],
      "metadata": {
        "id": "-6Wbwx4fjwhY"
      },
      "execution_count": null,
      "outputs": []
    }
  ]
}