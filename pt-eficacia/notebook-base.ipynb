{
 "cells": [
  {
   "cell_type": "markdown",
   "metadata": {
    "id": "x2YZDQOXqyTQ"
   },
   "source": []
  },
  {
   "cell_type": "markdown",
   "metadata": {
    "id": "UEwrAmPYnHcj"
   },
   "source": [
    "La actividad de Python se divide en 2 partes, para cada parte al final del código debe exportar el archivo Excel de respuesta:\n",
    "\n",
    "**Parte 1**\n",
    "\n",
    "Realizar un código en el cual al cruzar la pestaña llamada AKPAS del archivo de prueba con la maestra de PDV pueda traer el **PDV liquidacion** y finalmente generar un Excel agrupando de acuerdo al nombre del PDV el total de unidades y valor vendido.\n",
    "\n",
    "**Parte 2**\n",
    "\n",
    "Con base en el siguiente código, completarlo para que pueda cruzar el df_exito con la maestra de PDV para traer el **PDV liquiedacion** y exportar en un excel la base de exito resultante despues del cruce."
   ]
  },
  {
   "cell_type": "code",
   "execution_count": null,
   "metadata": {
    "colab": {
     "base_uri": "https://localhost:8080/",
     "height": 391
    },
    "executionInfo": {
     "elapsed": 1032,
     "status": "error",
     "timestamp": 1732195430414,
     "user": {
      "displayName": "Felipe Hernandez",
      "userId": "02078170099721386092"
     },
     "user_tz": 300
    },
    "id": "BgJl6-90wpGG",
    "outputId": "d75dee03-dc1b-427a-bd71-d3ae4ed4b6c1"
   },
   "outputs": [
    {
     "name": "stdout",
     "output_type": "stream",
     "text": [
      "Empty DataFrame\n",
      "Columns: [Neto, Unidades, PDV, PDV LIQUIDACION, CANAL]\n",
      "Index: []\n"
     ]
    }
   ],
   "source": [
    "import pandas as pd\n",
    "#Carga\n",
    "archivo_prueba = r'C:\\Users\\quint.LAPTOP-LGVR2QRN\\OneDrive - correounivalle.edu.co\\Docs_OneDrive\\ian-peña-cientificos\\CIBERSEGURIDAD_SERES_ETICOS\\graphs_gif\\classical_trajectory\\pt-eficacia/Base-datos-principales.xlsx'\n",
    "maestra_pdv = r'C:\\Users\\quint.LAPTOP-LGVR2QRN\\OneDrive - correounivalle.edu.co\\Docs_OneDrive\\ian-peña-cientificos\\CIBERSEGURIDAD_SERES_ETICOS\\graphs_gif\\classical_trajectory\\pt-eficacia\\MAESTRA PDV (2).xlsx'\n",
    "\n",
    "# las 2 hojas de Base-datos-principales.xlsx\n",
    "df_akpas = pd.read_excel(archivo_prueba, sheet_name='AKPAS')\n",
    "df_exito = pd.read_excel(archivo_prueba, sheet_name='EXITO')\n",
    "\n",
    "df_maestra_pdv = pd.read_excel(maestra_pdv)\n",
    "\n",
    "\n",
    "# cambiar nombre de la columna 'Descripción Punto de Venta' perteneciente al df_exito y renombrar como 'PDV'\n",
    "df_akpas = df_akpas.rename(columns={'ID Prod': 'Codigo'})\n",
    "# pasar de 'Descripción Punto de Venta' a 'PDV liquidacion'\n",
    "df_exito = df_exito.rename(columns={'Descripción Punto de Venta': 'PDV LIQUIDACION'})\n",
    "\n",
    "\n",
    "# unir df_akpas y df_exito por 'Codigo'\n",
    "df_exito_final = pd.merge(df_akpas, df_exito, on='Codigo', how='left')\n",
    "\n",
    "\n",
    "def agrupar_pdv_liquidacion(df_grande, df_maestra_pdv):\n",
    "    # agrupar por 'PDV LIQUIDACION' y sumar 'Neto' y sumar 'Unidades'\n",
    "    df_grande = df_grande.groupby('PDV LIQUIDACION').agg({'Neto': 'sum', 'Unidades': 'sum'}).reset_index()\n",
    "    # merge con df_maestra_pdv\n",
    "    df_grande = pd.merge(df_grande, df_maestra_pdv, on='PDV LIQUIDACION', how='left')\n",
    "    return df_grande\n",
    "\n",
    "df_final = agrupar_pdv_liquidacion(df_exito_final, df_maestra_pdv)\n",
    "print(df_final)\n",
    "\n",
    "\n",
    "\n",
    "\n",
    "\n"
   ]
  },
  {
   "cell_type": "code",
   "execution_count": null,
   "metadata": {
    "id": "R9Xt7afBvEoY"
   },
   "outputs": [],
   "source": [
    "def exito():\n",
    "  df_exito = pd.read_excel(ruta_ventas, sheet_name='EXITO')\n",
    "    # Eliminar los espacios en blanco al principio y al final de los datos en todas las columnas\n",
    "  df_exito = df_exito.applymap(lambda x: x.strip() if isinstance(x, str) else x)\n",
    "  # renombrar las columnas\n",
    "  df_exito = df_exito.rename(\n",
    "      columns={\n",
    "          \"Referencia\": \"SKU\",\n",
    "          \"GTIN (Código EAN/UPC) del Item\": \"EAN\",\n",
    "          \"Cantidad Vendida\": \"Cantidad\"\n",
    "      })\n",
    "  # Add a column with the sheet name\n",
    "  df_exito['RETAIL'] = 'EXITO'\n",
    "  # filtrar solo las columnas que se necesitan\n",
    "  df_exito = df_exito[[\n",
    "      'RETAIL', 'SKU', 'EAN', 'Descripción Punto de Venta', 'Categoría', 'Cantidad',\n",
    "      'Vta Total'\n",
    "  ]]\n",
    "  df_exito['Vta Total'] = pd.to_numeric(df_exito['Vta Total'], errors='coerce')\n",
    "  df_exito['Vta Total'] = df_exito['Vta Total'].round(0).astype(int)\n",
    "  # Convert to integer without using apply\n",
    "  df_exito['Vta Total'] = df_exito['Vta Total'].astype(int)\n",
    "  return df_exito"
   ]
  },
  {
   "cell_type": "code",
   "execution_count": null,
   "metadata": {
    "colab": {
     "base_uri": "https://localhost:8080/"
    },
    "executionInfo": {
     "elapsed": 254,
     "status": "ok",
     "timestamp": 1722948789428,
     "user": {
      "displayName": "Andree Amahar Aaron Quiroz",
      "userId": "08287959069704691017"
     },
     "user_tz": 300
    },
    "id": "uCRC9X3-jN5h",
    "outputId": "52657dce-f972-47d2-9e45-6cc0a261b964"
   },
   "outputs": [
    {
     "name": "stdout",
     "output_type": "stream",
     "text": [
      "Index(['PDV', 'PDV LIQUIDACION', 'CANAL'], dtype='object')\n",
      "Index(['UN', 'Fecha', 'ID Prod', 'Descripcion', 'Unidades', 'Neto', 'SKU'], dtype='object')\n"
     ]
    }
   ],
   "source": [
    "import pandas as pd\n",
    "archivo_base= 'Base prueba tecnica python 2.xlsx'\n",
    "maestra_pdv = 'MAESTRA PDV (2).xlsx'\n",
    "\n",
    "\n",
    "akpas_df = pd.read_excel(archivo_base, sheet_name='AKPAS')\n",
    "maestra_pdv = pd.read_excel(maestra_pdv)\n",
    "\n",
    "print(maestra_pdv.columns)\n",
    "print(akpas_df.columns)\n",
    "\n",
    "akpas_df = akpas_df.rename(columns={'UN': 'PDV'})\n",
    "\n",
    "cruce = akpas_df.merge(maestra_pdv, on='PDV', how='left')\n",
    "\n",
    "resultado = cruce.groupby('PDV LIQUIDACION').agg({\n",
    "    'Unidades': 'sum',\n",
    "    'Neto': 'sum'\n",
    "}).reset_index()"
   ]
  },
  {
   "cell_type": "code",
   "execution_count": null,
   "metadata": {
    "colab": {
     "base_uri": "https://localhost:8080/"
    },
    "executionInfo": {
     "elapsed": 265,
     "status": "ok",
     "timestamp": 1722948792824,
     "user": {
      "displayName": "Andree Amahar Aaron Quiroz",
      "userId": "08287959069704691017"
     },
     "user_tz": 300
    },
    "id": "I4ElcceHmV1x",
    "outputId": "27296fdf-3199-4ead-dbe8-dc1868bef0fe"
   },
   "outputs": [
    {
     "name": "stdout",
     "output_type": "stream",
     "text": [
      "Index(['PDV', 'Fecha', 'ID Prod', 'Descripcion', 'Unidades', 'Neto', 'SKU',\n",
      "       'PDV LIQUIDACION', 'CANAL'],\n",
      "      dtype='object')\n"
     ]
    }
   ],
   "source": [
    "print(cruce.columns)"
   ]
  },
  {
   "cell_type": "code",
   "execution_count": null,
   "metadata": {
    "id": "-6Wbwx4fjwhY"
   },
   "outputs": [],
   "source": [
    "# archivo Excel\n",
    "resultado.to_excel('resultado.xlsx', index=False)"
   ]
  }
 ],
 "metadata": {
  "colab": {
   "provenance": [
    {
     "file_id": "1APNmsHVbEXNt2TIZMJssriB5Mv9GbgcL",
     "timestamp": 1733202211370
    }
   ]
  },
  "kernelspec": {
   "display_name": "base",
   "language": "python",
   "name": "python3"
  },
  "language_info": {
   "codemirror_mode": {
    "name": "ipython",
    "version": 3
   },
   "file_extension": ".py",
   "mimetype": "text/x-python",
   "name": "python",
   "nbconvert_exporter": "python",
   "pygments_lexer": "ipython3",
   "version": "3.10.11"
  }
 },
 "nbformat": 4,
 "nbformat_minor": 0
}
