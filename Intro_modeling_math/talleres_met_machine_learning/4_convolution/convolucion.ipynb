{
 "cells": [
  {
   "cell_type": "markdown",
   "metadata": {},
   "source": []
  },
  {
   "cell_type": "code",
   "execution_count": null,
   "metadata": {},
   "outputs": [],
   "source": [
    "import numpy as np\n",
    "import cv2\n",
    "import matplotlib.pyplot as plt\n"
   ]
  },
  {
   "cell_type": "code",
   "execution_count": null,
   "metadata": {},
   "outputs": [],
   "source": [
    "# Cargar imagen y convertir a escala de grises\n",
    "img = cv2.imread('input.jpg')\n",
    "gray = cv2.cvtColor(img, cv2.COLOR_BGR2GRAY).astype(np.float32)  # Usar flotantes para operaciones matriciales\n",
    "\n",
    "# Mostrar imagen original y histograma\n",
    "plt.figure(figsize=(12, 6))\n",
    "plt.subplot(121), plt.imshow(cv2.cvtColor(img, cv2.COLOR_BGR2RGB)), plt.title('Imagen Original')\n",
    "plt.subplot(122), plt.hist(gray.ravel(), 256, [0,256]), plt.title('Histograma')\n",
    "plt.show()"
   ]
  },
  {
   "cell_type": "code",
   "execution_count": null,
   "metadata": {},
   "outputs": [],
   "source": [
    "\n",
    "# ---------------------\n",
    "# 1. Operaciones Aritméticas\n",
    "# ---------------------\n",
    "# Definir operaciones como operaciones matriciales:\n",
    "# - Brillo: h(m,n) = f(m,n) + B\n",
    "# - Contraste: h(m,n) = f(m,n) * C\n",
    "# - Ejemplo adicional: División (usando una máscara)\n",
    "mask = np.ones_like(gray) * 100  # Máscara para ilustrar división\n",
    "\n",
    "brightness = 50\n",
    "contrast = 1.5\n",
    "\n",
    "# Brillo\n",
    "brightened = np.clip(gray + brightness, 0, 255).astype(np.uint8)\n",
    "\n",
    "# Contraste\n",
    "contrasted = np.clip(gray * contrast, 0, 255).astype(np.uint8)\n",
    "\n",
    "# División (ejemplo adicional)\n",
    "divided = np.clip(gray / mask, 0, 255).astype(np.uint8)\n",
    "\n",
    "plt.figure(figsize=(15,5))\n",
    "plt.subplot(141), plt.imshow(gray, cmap='gray'), plt.title('Original')\n",
    "plt.subplot(142), plt.imshow(brightened, cmap='gray'), plt.title('Brillo')\n",
    "plt.subplot(143), plt.imshow(contrasted, cmap='gray'), plt.title('Contraste')\n",
    "plt.subplot(144), plt.imshow(divided, cmap='gray'), plt.title('División')\n",
    "plt.show()\n"
   ]
  },
  {
   "cell_type": "code",
   "execution_count": null,
   "metadata": {},
   "outputs": [],
   "source": [
    "# 2. Imagen Negativa\n",
    "# ---------------------\n",
    "# h(m,n) = 255 - f(m,n)\n",
    "negative = 255 - gray\n",
    "negative = np.clip(negative, 0, 255).astype(np.uint8)\n",
    "\n",
    "plt.figure(figsize=(10,5))\n",
    "plt.subplot(121), plt.imshow(gray, cmap='gray'), plt.title('Original')\n",
    "plt.subplot(122), plt.imshow(negative, cmap='gray'), plt.title('Negativo')\n",
    "plt.show()\n"
   ]
  },
  {
   "cell_type": "code",
   "execution_count": null,
   "metadata": {},
   "outputs": [],
   "source": [
    "\n",
    "\n",
    "# 3. Corrección Gamma\n",
    "# h(m,n) = 255 * (f(m,n)/255)^{1/γ}\n",
    "def gamma_correction(image, gamma=1.0):\n",
    "    inv_gamma = 1.0 / gamma\n",
    "    return (image / 255.0)**inv_gamma * 255.0\n",
    "\n",
    "gamma = 0.5\n",
    "gamma_corrected = gamma_correction(gray, gamma).astype(np.uint8)\n",
    "\n",
    "plt.figure(figsize=(10,5))\n",
    "plt.subplot(121), plt.imshow(gray, cmap='gray'), plt.title('Original')\n",
    "plt.subplot(122), plt.imshow(gamma_corrected, cmap='gray'), plt.title('Gamma (γ=0.5)')\n",
    "plt.show()\n",
    "\n"
   ]
  },
  {
   "cell_type": "code",
   "execution_count": null,
   "metadata": {},
   "outputs": [],
   "source": [
    "# 4. Estiramiento de Histograma\n",
    "# h(m,n) = (f(m,n) - min_f) * (255/(max_f - min_f))\n",
    "min_val = gray.min()\n",
    "max_val = gray.max()\n",
    "stretched = ((gray - min_val) * (255/(max_val - min_val))).astype(np.uint8)\n",
    "\n",
    "plt.figure(figsize=(10,5))\n",
    "plt.subplot(121), plt.imshow(gray, cmap='gray'), plt.title('Original')\n",
    "plt.subplot(122), plt.imshow(stretched, cmap='gray'), plt.title('Estiramiento')\n",
    "plt.show()\n"
   ]
  },
  {
   "cell_type": "code",
   "execution_count": null,
   "metadata": {},
   "outputs": [],
   "source": [
    "# 5. Igualación de Histograma\n",
    "# h(m,n) = T(r_k) donde T(r) = (L-1) * S(r)\n",
    "# (Usamos OpenCV para implementar esta compleja operación)\n",
    "equalized = cv2.equalizeHist(gray.astype(np.uint8))\n",
    "\n",
    "plt.figure(figsize=(10,5))\n",
    "plt.subplot(121), plt.imshow(gray, cmap='gray'), plt.title('Original')\n",
    "plt.subplot(122), plt.imshow(equalized, cmap='gray'), plt.title('Igualación')\n",
    "plt.show()\n"
   ]
  },
  {
   "cell_type": "code",
   "execution_count": null,
   "metadata": {},
   "outputs": [],
   "source": [
    "# 6. Umbralización\n",
    "# ---------------------\n",
    "# h(m,n) = { 0 si f(m,n) < T; 255 si f(m,n) >= T }\n",
    "# Usando método Otsu para T automático\n",
    "_, thresh = cv2.threshold(gray.astype(np.uint8), 0, 255, cv2.THRESH_BINARY+cv2.THRESH_OTSU)\n",
    "\n",
    "plt.figure(figsize=(10,5))\n",
    "plt.subplot(121), plt.imshow(gray, cmap='gray'), plt.title('Original')\n",
    "plt.subplot(122), plt.imshow(thresh, cmap='gray'), plt.title(f'Umbral: {thresh}')\n",
    "plt.show()"
   ]
  }
 ],
 "metadata": {
  "kernelspec": {
   "display_name": "base",
   "language": "python",
   "name": "python3"
  },
  "language_info": {
   "name": "python",
   "version": "3.10.11"
  }
 },
 "nbformat": 4,
 "nbformat_minor": 2
}
