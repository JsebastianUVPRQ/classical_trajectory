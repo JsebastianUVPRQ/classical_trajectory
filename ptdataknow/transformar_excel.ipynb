{
 "cells": [
  {
   "cell_type": "markdown",
   "metadata": {},
   "source": [
    "## Previsualizar datasets originales"
   ]
  },
  {
   "cell_type": "code",
   "execution_count": 31,
   "metadata": {},
   "outputs": [],
   "source": [
    "import pandas as pd\n",
    "\n",
    "# leer archivos (3 excels) contenidos en la carpeta 'datos'\n",
    "df1 = pd.read_csv('Datos/X.csv')\n",
    "df2 = pd.read_csv('Datos/Y.csv', delimiter=';')\n",
    "df3 = pd.read_csv('Datos/Z.csv')\n"
   ]
  },
  {
   "cell_type": "code",
   "execution_count": 32,
   "metadata": {},
   "outputs": [
    {
     "name": "stdout",
     "output_type": "stream",
     "text": [
      "         Date  Price\n",
      "0  2024-04-04  89.18\n",
      "1  2024-04-03  89.35\n",
      "2  2024-04-02  88.92\n",
      "3  2024-04-01  87.42\n",
      "4  2024-03-28  87.48\n"
     ]
    }
   ],
   "source": [
    "print(df1.head())"
   ]
  },
  {
   "cell_type": "code",
   "execution_count": 33,
   "metadata": {},
   "outputs": [
    {
     "name": "stdout",
     "output_type": "stream",
     "text": [
      "        Date   Price\n",
      "0  12/9/2023  547,33\n",
      "1  11/9/2023     546\n",
      "2   8/9/2023     545\n",
      "3   7/9/2023     550\n",
      "4   6/9/2023   552,5\n",
      "     Price        Date\n",
      "0  2225.25  2010-01-01\n",
      "1  2225.25  2010-01-04\n",
      "2  2246.50  2010-01-05\n",
      "3  2302.50  2010-01-06\n",
      "4  2306.50  2010-01-07\n"
     ]
    }
   ],
   "source": [
    "print(df2.head())\n",
    "print(df3.head())\n"
   ]
  },
  {
   "cell_type": "markdown",
   "metadata": {},
   "source": [
    "Lo primero que salta a la vista es la diferencia en los formatos de escritura de las fechas, además del orden de las columnas. En el dataset 1 pasaré la fecha de orden descendente a ascendente."
   ]
  },
  {
   "cell_type": "code",
   "execution_count": 34,
   "metadata": {},
   "outputs": [
    {
     "name": "stdout",
     "output_type": "stream",
     "text": [
      "         Date  Price\n",
      "0  1988-06-27  15.10\n",
      "1  1988-06-28  15.27\n",
      "2  1988-06-29  15.47\n",
      "3  1988-06-30  14.85\n",
      "4  1988-07-01  14.60\n"
     ]
    }
   ],
   "source": [
    "# Invertir el indice de df1\n",
    "df1 = df1.iloc[::-1]\n",
    "# resetear el indice de df1\n",
    "df1 = df1.reset_index(drop=True)\n",
    "print(df1.head())"
   ]
  },
  {
   "cell_type": "markdown",
   "metadata": {},
   "source": [
    "### Para el dataset 2 cambiaré el separador / por un guión. invertiré los indices al igual que en el caso anterior, y para los decimales de \"Price\" cambiaré la coma por un punto. Lo anterior busca tener un formato uniforme"
   ]
  },
  {
   "cell_type": "code",
   "execution_count": null,
   "metadata": {},
   "outputs": [
    {
     "name": "stdout",
     "output_type": "stream",
     "text": [
      "        Date   Price\n",
      "0  12-9-2023  547.33\n",
      "1  11-9-2023  546.00\n",
      "2   8-9-2023  545.00\n",
      "3   7-9-2023  550.00\n",
      "4   6-9-2023  552.50\n"
     ]
    }
   ],
   "source": [
    "# cambiar los / por - en la columna 'Date' y convertir la columna 'Price' a tipo float\n",
    "df2['Date'] = df2['Date'].str.replace('/', '-')\n",
    "df2['Price'] = df2['Price'].str.replace(',', '.').astype(float)\n"
   ]
  },
  {
   "cell_type": "code",
   "execution_count": 36,
   "metadata": {},
   "outputs": [
    {
     "name": "stdout",
     "output_type": "stream",
     "text": [
      "        Date  Price\n",
      "0  11-7-2006  555.0\n",
      "1  12-7-2006  555.0\n",
      "2  13-7-2006  555.0\n",
      "3  14-7-2006  555.0\n",
      "4  17-7-2006  555.0\n"
     ]
    },
    {
     "name": "stderr",
     "output_type": "stream",
     "text": [
      "C:\\Users\\quint.LAPTOP-LGVR2QRN\\AppData\\Local\\Temp\\ipykernel_8644\\2291726011.py:7: UserWarning: Parsing dates in DD/MM/YYYY format when dayfirst=False (the default) was specified. This may lead to inconsistently parsed dates! Specify a format to ensure consistent parsing.\n",
      "  df2['Date'] = pd.to_datetime(df2['Date'])\n"
     ]
    }
   ],
   "source": [
    "# Invertir el orden a: ascendente\n",
    "df2 = df2.iloc[::-1]\n",
    "# resetear el indice de df2\n",
    "df2 = df2.reset_index(drop=True)\n",
    "print(df2.head())\n",
    "# convertir la columna 'Date' a tipo datetime\n",
    "df2['Date'] = pd.to_datetime(df2['Date'])"
   ]
  },
  {
   "cell_type": "code",
   "execution_count": null,
   "metadata": {},
   "outputs": [],
   "source": [
    "df2['Date'] = pd.to_datetime(df2['Date'])\n",
    "# pasar del formato dd/mm/yyyy a yyyy-mm-dd\n",
    "df2['Date'] = pd.to_datetime(df2['Date'], format='%d/%m/%Y').dt.strftime('%Y-%m-%d')"
   ]
  },
  {
   "cell_type": "markdown",
   "metadata": {},
   "source": [
    "### En el dataset 3 cambiaré el lugar de las columnas \"Date\" y \"Price\". Por lo demás, este dataset se acopla al formato deseado"
   ]
  },
  {
   "cell_type": "code",
   "execution_count": null,
   "metadata": {},
   "outputs": [
    {
     "name": "stdout",
     "output_type": "stream",
     "text": [
      "         Date    Price\n",
      "0  2010-01-01  2225.25\n",
      "1  2010-01-04  2225.25\n",
      "2  2010-01-05  2246.50\n",
      "3  2010-01-06  2302.50\n",
      "4  2010-01-07  2306.50\n"
     ]
    }
   ],
   "source": [
    "# intercamviar las columnas 'Price' y 'Date' de df3\n",
    "df3 = df3[['Date', 'Price']]\n",
    "df3.head()"
   ]
  },
  {
   "cell_type": "markdown",
   "metadata": {},
   "source": [
    "## Ahora, los datasets transformados se exportan en formato csv. Están listos para ser utilizados en Forecasting\n"
   ]
  },
  {
   "cell_type": "code",
   "execution_count": null,
   "metadata": {},
   "outputs": [],
   "source": [
    "# exportar los dataframes a archivos csv\n",
    "df1.to_csv('Datos/X_modificado.csv', index=True)\n",
    "df2.to_csv('Datos/Y_modificado.csv', index=True)\n",
    "df3.to_csv('Datos/Z_modificado.csv', index=True)"
   ]
  }
 ],
 "metadata": {
  "kernelspec": {
   "display_name": "py31",
   "language": "python",
   "name": "python3"
  },
  "language_info": {
   "codemirror_mode": {
    "name": "ipython",
    "version": 3
   },
   "file_extension": ".py",
   "mimetype": "text/x-python",
   "name": "python",
   "nbconvert_exporter": "python",
   "pygments_lexer": "ipython3",
   "version": "3.11.3"
  }
 },
 "nbformat": 4,
 "nbformat_minor": 2
}
