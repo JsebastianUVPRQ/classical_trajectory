{
 "cells": [
  {
   "cell_type": "code",
   "execution_count": 113,
   "metadata": {},
   "outputs": [],
   "source": [
    "import os\n",
    "from sklearn.model_selection import train_test_split\n",
    "from sklearn.preprocessing import StandardScaler\n",
    "import numpy as np"
   ]
  },
  {
   "cell_type": "markdown",
   "metadata": {},
   "source": [
    "El objetivo es tomar los datasets ubicados en este directorio (3 archivos CSV) y hacer escalamiento y \n",
    "hacer split de los datos para entrenamiento y prueba. Guardar los resultados en una carpeta llamada \\split_data "
   ]
  },
  {
   "cell_type": "code",
   "execution_count": 114,
   "metadata": {},
   "outputs": [
    {
     "name": "stdout",
     "output_type": "stream",
     "text": [
      "[['3560' '2023-08-25' '2123.5']\n",
      " ['3561' '2023-08-28' '2116.25']\n",
      " ['3562' '2023-08-29' '2116.25']\n",
      " ['3563' '2023-08-30' '2140.25']\n",
      " ['3564' '2023-08-31' '2165.25']]\n",
      "(3565, 3)\n"
     ]
    }
   ],
   "source": [
    "# cada uno de los 3 archivos tiene 3 columnas. La primera es index, la segunda 'Date' y la tercera 'Price'\n",
    "# carguemos el primer csv\n",
    "data = np.loadtxt('Z_modificado.csv', delimiter=',', skiprows=1, dtype='str')\n",
    "print(data[-5:])\n",
    "print(data.shape)"
   ]
  },
  {
   "cell_type": "code",
   "execution_count": 117,
   "metadata": {},
   "outputs": [],
   "source": [
    "\n",
    "# convertir la columna primera y tercera a float; pero no la columna 2\n",
    "column_1 = data[:, 0].astype(int)\n",
    "column_3 = data[:, 2].astype(float)\n",
    "\n",
    "data = np.column_stack((column_1, column_3))"
   ]
  },
  {
   "cell_type": "code",
   "execution_count": 121,
   "metadata": {},
   "outputs": [
    {
     "name": "stdout",
     "output_type": "stream",
     "text": [
      "float64\n",
      "(2673, 2)\n"
     ]
    }
   ],
   "source": [
    "# normalizamos los datos\n",
    "# scaler = StandardScaler()\n",
    "# data = scaler.fit_transform(data)\n",
    "\n",
    "\n",
    "\n",
    "\n",
    "# crear un array con los datos CONVERTIDOS EN FLOAT\n",
    "X = data[:, 0].astype(int)\n",
    "Y = data[:, 1].astype(float)\n",
    "\n",
    "# dividir los datos en train y test\n",
    "X_train, X_test, Y_train, Y_test = train_test_split(X, Y, test_size=0.25, random_state=44)\n",
    "\n",
    "# USAR los resultados para crear 2 archivos csv (todas las columnas son numericas)\n",
    "train = np.column_stack((X_train , Y_train))\n",
    "test = np.column_stack((X_test, Y_test))\n",
    "\n",
    "\n",
    "# ordenar por index\n",
    "train = train[train[:, 0].argsort()]\n",
    "test = test[test[:, 0].argsort()]\n",
    "\n",
    "\n",
    "# ver dtype de los datos\n",
    "print(test.dtype)\n",
    "print(train.shape)\n",
    "\n",
    "\n"
   ]
  },
  {
   "cell_type": "code",
   "execution_count": 122,
   "metadata": {},
   "outputs": [
    {
     "name": "stdout",
     "output_type": "stream",
     "text": [
      "[[3553.   2088.75]\n",
      " [3558.   2128.75]\n",
      " [3559.   2119.25]\n",
      " [3560.   2123.5 ]\n",
      " [3564.   2165.25]]\n"
     ]
    }
   ],
   "source": [
    "print(train[-5:])"
   ]
  },
  {
   "cell_type": "code",
   "execution_count": 123,
   "metadata": {},
   "outputs": [],
   "source": [
    "# crear los archivos csv\n",
    "np.savetxt('Zc_train_dataset.csv', train, delimiter=',', fmt='%f')\n",
    "np.savetxt('ZC_test_dataset.csv', test, delimiter=',', fmt='%f')"
   ]
  }
 ],
 "metadata": {
  "kernelspec": {
   "display_name": "py31",
   "language": "python",
   "name": "python3"
  },
  "language_info": {
   "codemirror_mode": {
    "name": "ipython",
    "version": 3
   },
   "file_extension": ".py",
   "mimetype": "text/x-python",
   "name": "python",
   "nbconvert_exporter": "python",
   "pygments_lexer": "ipython3",
   "version": "3.11.3"
  }
 },
 "nbformat": 4,
 "nbformat_minor": 2
}
