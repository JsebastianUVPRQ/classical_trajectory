{
 "cells": [
  {
   "cell_type": "code",
   "execution_count": null,
   "id": "bd7c9fcbdb9aa04c",
   "metadata": {},
   "outputs": [],
   "source": [
    "# Do a pseudo code for vectorize photos of zeros and ones\n",
    "# use SVD and PCA\n",
    "\n",
    "import numpy as np\n",
    "import matplotlib.pyplot as plt\n",
    "from sklearn.decomposition import PCA\n",
    "from sklearn.decomposition import TruncatedSVD\n",
    "from sklearn.preprocessing import StandardScaler"
   ]
  }
 ],
 "metadata": {
  "language_info": {
   "name": "python"
  }
 },
 "nbformat": 5,
 "nbformat_minor": 9
}
