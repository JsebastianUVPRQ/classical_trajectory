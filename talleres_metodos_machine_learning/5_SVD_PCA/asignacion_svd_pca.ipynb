{
 "cells": [
  {
   "cell_type": "code",
   "execution_count": null,
   "id": "bd7c9fcbdb9aa04c",
   "metadata": {},
   "outputs": [],
   "source": [
    "# Do a pseudo code for vectorize photos of zeros and ones\n",
    "# use SVD and PCA\n",
    "# do the algebra logic by \"hand\", dont use scikit-learn\n",
    "\n",
    "import numpy as np\n",
    "import matplotlib.pyplot as plt\n",
    "# to load images without PIL\n",
    "import cv2"
   ]
  },
  {
   "cell_type": "code",
   "execution_count": null,
   "id": "3dd82a12",
   "metadata": {},
   "outputs": [],
   "source": [
    "import numpy as np\n",
    "import matplotlib.pyplot as plt\n",
    "\n",
    "# Step 1: Create a dataset of images (zeros and ones)\n",
    "# Each image is a 2D array of size 5x5\n",
    "image1 =  cv2.imread('zero.png', cv2.IMREAD_GRAYSCALE)\n",
    "image2 =  cv2.imread('one.png', cv2.IMREAD_GRAYSCALE)\n",
    "image3 =  cv2.imread('two.png', cv2.IMREAD_GRAYSCALE)\n",
    "\n",
    "# Stack images into a dataset (each image is flattened into a vector)\n",
    "dataset = np.array([image1.flatten(), image2.flatten(), image3.flatten()])\n",
    "\n",
    "# Step 2: Center the data (subtract the mean)\n",
    "mean = np.mean(dataset, axis=0)\n",
    "centered_data = dataset - mean\n",
    "\n",
    "# Step 3: Compute the covariance matrix\n",
    "cov_matrix = np.cov(centered_data, rowvar=False)\n",
    "\n",
    "# Step 4: Perform Singular Value Decomposition (SVD)\n",
    "U, S, Vt = np.linalg.svd(cov_matrix)\n",
    "\n",
    "# Step 5: Perform PCA by projecting the data onto the principal components\n",
    "# Select the top k components (e.g., k=2 for visualization)\n",
    "k = 2\n",
    "principal_components = Vt[:k, :]\n",
    "pca_result = np.dot(centered_data, principal_components.T)\n",
    "\n",
    "# Step 6: Visualize the PCA results\n",
    "plt.scatter(pca_result[:, 0], pca_result[:, 1])\n",
    "plt.title(\"PCA of Images\")\n",
    "plt.xlabel(\"Principal Component 1\")\n",
    "plt.ylabel(\"Principal Component 2\")\n",
    "for i, (x, y) in enumerate(pca_result):\n",
    "    plt.text(x, y, f'Image {i+1}', fontsize=12)\n",
    "plt.show()\n",
    "\n",
    "# Step 7: Reconstruct the images using the principal components\n",
    "reconstructed_data = np.dot(pca_result, principal_components) + mean\n",
    "reconstructed_images = reconstructed_data.reshape(-1, 5, 5)\n",
    "\n",
    "# Step 8: Visualize the original and reconstructed images\n",
    "fig, axes = plt.subplots(2, 3, figsize=(10, 6))\n",
    "for i, (original, reconstructed) in enumerate(zip(dataset, reconstructed_images)):\n",
    "    axes[0, i].imshow(original.reshape(5, 5), cmap='gray')\n",
    "    axes[0, i].set_title(f'Original Image {i+1}')\n",
    "    axes[1, i].imshow(reconstructed, cmap='gray')\n",
    "    axes[1, i].set_title(f'Reconstructed Image {i+1}')\n",
    "plt.tight_layout()\n",
    "plt.show()"
   ]
  },
  {
   "cell_type": "code",
   "execution_count": null,
   "id": "19aa56e4",
   "metadata": {},
   "outputs": [],
   "source": [
    "\n"
   ]
  },
  {
   "cell_type": "code",
   "execution_count": null,
   "id": "a0d2515b",
   "metadata": {},
   "outputs": [],
   "source": []
  }
 ],
 "metadata": {
  "kernelspec": {
   "display_name": "svdpca.venv (3.12.9)",
   "language": "python",
   "name": "python3"
  },
  "language_info": {
   "codemirror_mode": {
    "name": "ipython",
    "version": 3
   },
   "file_extension": ".py",
   "mimetype": "text/x-python",
   "name": "python",
   "nbconvert_exporter": "python",
   "pygments_lexer": "ipython3",
   "version": "3.12.9"
  }
 },
 "nbformat": 5,
 "nbformat_minor": 9
}
