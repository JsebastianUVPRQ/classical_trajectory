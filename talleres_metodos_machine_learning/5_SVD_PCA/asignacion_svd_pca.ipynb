{
 "cells": [
  {
   "cell_type": "code",
   "execution_count": null,
   "id": "bd7c9fcbdb9aa04c",
   "metadata": {},
   "outputs": [],
   "source": [
    "# Do a pseudo code for vectorize photos of zeros and ones\n",
    "# use SVD and PCA\n",
    "# do the algebra logic by \"hand\", dont use scikit-learn\n",
    "\n",
    "import numpy as np\n",
    "import matplotlib.pyplot as plt\n",
    "# to load images without PIL\n",
    "import cv2\n",
    "\n",
    "\n"
   ]
  }
 ],
 "metadata": {
  "language_info": {
   "name": "python"
  }
 },
 "nbformat": 5,
 "nbformat_minor": 9
}
