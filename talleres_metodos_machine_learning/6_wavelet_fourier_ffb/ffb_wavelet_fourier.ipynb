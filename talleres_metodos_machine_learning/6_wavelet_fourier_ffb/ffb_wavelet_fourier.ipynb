{
 "cells": [
  {
   "cell_type": "markdown",
   "id": "1f1012d2",
   "metadata": {},
   "source": []
  },
  {
   "cell_type": "code",
   "execution_count": null,
   "id": "f937c5d8",
   "metadata": {},
   "outputs": [],
   "source": []
  }
 ],
 "metadata": {
  "language_info": {
   "name": "python"
  }
 },
 "nbformat": 4,
 "nbformat_minor": 5
}
