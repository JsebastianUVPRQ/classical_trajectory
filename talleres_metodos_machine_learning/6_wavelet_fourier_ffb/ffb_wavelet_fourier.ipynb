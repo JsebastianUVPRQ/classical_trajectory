{
 "cells": [
  {
   "cell_type": "code",
   "execution_count": 1,
   "id": "8b71c4c8",
   "metadata": {},
   "outputs": [
    {
     "ename": "",
     "evalue": "",
     "output_type": "error",
     "traceback": [
      "\u001b[1;31mRunning cells with 'Python 3.12.10' requires the ipykernel package.\n",
      "\u001b[1;31mRun the following command to install 'ipykernel' into the Python environment. \n",
      "\u001b[1;31mCommand: 'c:/Users/Sebastian/AppData/Local/Microsoft/WindowsApps/python3.12.exe -m pip install ipykernel -U --user --force-reinstall'"
     ]
    }
   ],
   "source": [
    "import numpy as np\n",
    "from PIL import Image\n",
    "import matplotlib.pyplot as plt\n"
   ]
  },
  {
   "cell_type": "code",
   "execution_count": 6,
   "id": "631cdccc",
   "metadata": {},
   "outputs": [],
   "source": [
    "\n",
    "# Cargar imagen\n",
    "img = Image.open('imagen_ejemplo.jpg').convert('RGB')\n",
    "img_np = np.asarray(img).astype(float)\n",
    "\n"
   ]
  },
  {
   "cell_type": "markdown",
   "id": "39d82b4f",
   "metadata": {},
   "source": []
  },
  {
   "cell_type": "code",
   "execution_count": null,
   "id": "d5397e94",
   "metadata": {},
   "outputs": [],
   "source": [
    "# Conversión a escala de grises (álgebra lineal: combinación lineal de canales RGB)\n",
    "# Usamos coeficientes de luminancia estándar\n",
    "gray = 0.299 * img_np[:, :, 0] + 0.587 * img_np[:, :, 1] + 0.114 * img_np[:, :, 2]\n",
    "\n",
    "plt.imshow(gray, cmap='gray')\n",
    "plt.title(\"Imagen en escala de grises\")\n",
    "plt.axis('off')\n",
    "plt.show()"
   ]
  },
  {
   "cell_type": "markdown",
   "id": "a620c556",
   "metadata": {},
   "source": [
    "# EJECUCION LENTA: Vectorizar la imagen y aplicar FFT"
   ]
  },
  {
   "cell_type": "code",
   "execution_count": null,
   "id": "e471a5a0",
   "metadata": {},
   "outputs": [],
   "source": [
    "# Construcción de la matriz DFT 1D de tamaño N\n",
    "def dft_matrix(N):\n",
    "    n = np.arange(N)\n",
    "    k = n.reshape((N,1))\n",
    "    omega = np.exp(-2j * np.pi * k * n / N)\n",
    "    return omega\n",
    "\n",
    "# DFT 1D y su inversa\n",
    "def dft1d(x):\n",
    "    N = x.shape[0]\n",
    "    W = dft_matrix(N)\n",
    "    return W @ x\n",
    "\n",
    "def idft1d(X):\n",
    "    N = X.shape[0]\n",
    "    W = np.conj(dft_matrix(N))\n",
    "    return (W @ X) / N\n",
    "\n",
    "# DFT 2D aplicando la 1D a filas y columnas\n",
    "def dft2d(mat):\n",
    "    # aplicar DFT 1D a cada fila\n",
    "    temp = np.array([dft1d(row) for row in mat])\n",
    "    # aplicar DFT 1D a cada columna del resultado\n",
    "    return np.array([dft1d(col) for col in temp.T]).T\n",
    "\n",
    "def idft2d(mat):\n",
    "    temp = np.array([idft1d(row) for row in mat])\n",
    "    return np.array([idft1d(col) for col in temp.T]).\n",
    "\n",
    "# Calculamos la DFT 2D de la imagen\n",
    "h, w = gray.shape\n",
    "F = dft2d(gray)         # matriz compleja\n",
    "F_shift = np.fft.fftshift(F)  # para centrar frecuencia (solo reordena!)\n",
    "magnitude = np.abs(F_shift)\n",
    "\n",
    "plt.imshow(np.log1p(magnitude), cmap='gray')\n",
    "plt.title(\"Espectro de magnitud (DFT 2D scratch)\")\n",
    "plt.axis('off')\n",
    "\n"
   ]
  },
  {
   "cell_type": "markdown",
   "id": "0499a52d",
   "metadata": {},
   "source": [
    "### EL TIEMPO DE COMPUTO FUE DE 2 MINUTOS!!\n"
   ]
  },
  {
   "cell_type": "markdown",
   "id": "d6927675",
   "metadata": {},
   "source": [
    "---\n",
    "# 1. Core DFT Functions (From Scratch)\n"
   ]
  },
  {
   "cell_type": "code",
   "execution_count": 1,
   "id": "87e813ab",
   "metadata": {},
   "outputs": [],
   "source": [
    "import cmath  # For complex math operations\n",
    "import math   # For pi and other basics\n",
    "from typing import List, Union\n",
    "\n",
    "# ComplexNumber type for type hints\n",
    "ComplexNumber = Union[complex, float]\n",
    "\n",
    "def dft_matrix(N: int) -> List[List[complex]]:\n",
    "    \"\"\"Construct the 1D DFT matrix of size NxN using Euler's formula.\"\"\"\n",
    "    return [\n",
    "        [\n",
    "            cmath.exp(-2j * cmath.pi * k * n / N)\n",
    "            for n in range(N)\n",
    "        ]\n",
    "        for k in range(N)\n",
    "    ]\n",
    "\n",
    "def dft1d(x: List[ComplexNumber]) -> List[complex]:\n",
    "    \"\"\"Compute 1D DFT by explicit matrix-vector multiplication.\"\"\"\n",
    "    N = len(x)\n",
    "    W = dft_matrix(N)\n",
    "    return [\n",
    "        sum(W[k][n] * x[n] for n in range(N))\n",
    "        for k in range(N)\n",
    "    ]\n",
    "\n",
    "def idft1d(X: List[ComplexNumber]) -> List[complex]:\n",
    "    \"\"\"Compute 1D IDFT using conjugate DFT matrix and normalization.\"\"\"\n",
    "    N = len(X)\n",
    "    W_conj = [\n",
    "        [\n",
    "            cmath.exp(2j * cmath.pi * k * n / N)  # Conjugate of DFT matrix\n",
    "            for n in range(N)\n",
    "        ]\n",
    "        for k in range(N)\n",
    "    ]\n",
    "    return [(sum(W_conj[k][n] * X[n] for n in range(N))) / N for k in range(N)]"
   ]
  },
  {
   "cell_type": "code",
   "execution_count": 2,
   "id": "bcd0abe9",
   "metadata": {},
   "outputs": [],
   "source": [
    "def transpose(matrix: List[List[ComplexNumber]]) -> List[List[ComplexNumber]]:\n",
    "    \"\"\"Matrix transpose (for 2D DFT separable operations).\"\"\"\n",
    "    return [list(row) for row in zip(*matrix)]\n",
    "\n",
    "def dft2d(image: List[List[ComplexNumber]]) -> List[List[complex]]:\n",
    "    \"\"\"Compute 2D DFT via separable row-column 1D DFTs.\"\"\"\n",
    "    # DFT on rows\n",
    "    temp = [dft1d(row) for row in image]\n",
    "    # DFT on columns (by transposing first)\n",
    "    return transpose([dft1d(col) for col in transpose(temp)])\n",
    "\n",
    "def idft2d(image: List[List[ComplexNumber]]) -> List[List[complex]]:\n",
    "    \"\"\"Compute 2D IDFT via separable row-column 1D IDFTs.\"\"\"\n",
    "    # IDFT on rows\n",
    "    temp = [idft1d(row) for row in image]\n",
    "    # IDFT on columns (by transposing first)\n",
    "    return transpose([idft1d(col) for col in transpose(temp)])"
   ]
  },
  {
   "cell_type": "code",
   "execution_count": 4,
   "id": "17448dc3",
   "metadata": {},
   "outputs": [],
   "source": [
    "def fftshift(F: List[List[complex]]) -> List[List[complex]]:\n",
    "    \"\"\"Center the zero-frequency component (like np.fft.fftshift).\"\"\"\n",
    "    N_rows = len(F)\n",
    "    N_cols = len(F[0])\n",
    "    return [\n",
    "        [\n",
    "            F[(r + N_rows // 2) % N_rows][(c + N_cols // 2) % N_cols]\n",
    "            for c in range(N_cols)\n",
    "        ]\n",
    "        for r in range(N_rows)\n",
    "    ]\n",
    "\n",
    "def log_magnitude_spectrum(F_shift: List[List[complex]]) -> List[List[float]]:\n",
    "    \"\"\"Compute log(1 + |F|) for visualization.\"\"\"\n",
    "    return [\n",
    "        [math.log1p(abs(z)) for z in row]\n",
    "        for row in F_shift\n",
    "    ]"
   ]
  },
  {
   "cell_type": "code",
   "execution_count": null,
   "id": "be9b6feb",
   "metadata": {},
   "outputs": [],
   "source": [
    "# Example: DFT of a 4x4 image (grayscale values)\n",
    "image = [\n",
    "    [1.0, 0.0, 1.0, 0.0],\n",
    "    [0.0, 1.0, 0.0, 1.0],\n",
    "    [1.0, 0.0, 1.0, 0.0],\n",
    "    [0.0, 1.0, 0.0, 1.0]\n",
    "]\n",
    "\n",
    "# Compute 2D DFT\n",
    "F = dft2d(image)\n",
    "\n",
    "# Shift frequencies and visualize\n",
    "F_shift = fftshift(F)\n",
    "magnitude = log_magnitude_spectrum(F_shift)\n",
    "\n",
    "# Print results (or plot with matplotlib)\n",
    "for row in magnitude:\n",
    "    print(\" \".join(f\"{val:.2f}\" for val in row))"
   ]
  },
  {
   "cell_type": "markdown",
   "id": "bc415af7",
   "metadata": {},
   "source": [
    "# EXPLANATION"
   ]
  },
  {
   "cell_type": "markdown",
   "id": "29d8c40a",
   "metadata": {},
   "source": [
    "---\n",
    "\n",
    "**pure Python implementation** of the 1D/2D DFT and IDFT **from scratch**, using only fundamental **linear algebra** and **complex arithmetic**, without relying on NumPy's high-level functions (except for array storage). The code is optimized for clarity and pedagogical value while maintaining mathematical rigor.\n",
    "\n",
    "---\n",
    "\n",
    "### **Key Mathematical Insights**\n",
    "1. **DFT Matrix Construction**:\n",
    "\n",
    "   - The DFT matrix $W$ is defined as $W[k, n] = e^{-2\\pi i kn/N}$.\n",
    "\n",
    "   - Each element is a **complex root of unity**.\n",
    "\n",
    "2. **Separability of 2D DFT**:\n",
    "   - The 2D DFT is computed by applying 1D DFTs to **rows**, then to **columns** (or vice versa).\n",
    "\n",
    "3. **IDFT Normalization**:\n",
    "   - The inverse DFT requires a $1/N$ scaling factor to ensure $\\text{IDFT}(\\text{DFT}(x)) = x$.\n",
    "\n",
    "4. **Frequency Shifting**:\n",
    "   - Zero-frequency is centered by swapping quadrants (periodic rearrangement).\n",
    "\n",
    "---\n",
    "\n",
    "## **Performance Notes**\n",
    "\n",
    "- **Time Complexity**: $O(N^4)$ for 2D DFT (naive implementation). For large images, this is impractical—use FFT ($O(N^2 \\log N)$) in production.\n",
    "\n",
    "- **Numerical Precision**: Python’s `cmath` ensures accurate complex arithmetic, but floating-point errors may accumulate for large $N$.\n",
    "\n",
    "---\n",
    "\n",
    "## **Why This Implementation?**\n",
    "\n",
    "- **Pedagogical**: Clearly shows the linear algebra behind DFT.\n",
    "\n",
    "- **No NumPY Dependence**: Uses only Python lists and loops.\n",
    "\n",
    "- **Verifiable**: Matches textbook definitions of DFT/IDFT.\n",
    "\n",
    "For a **fast** but still \"from-scratch\" version, consider implementing the **Cooley-Tukey FFT algorithm** (recursive or iterative)."
   ]
  }
 ],
 "metadata": {
  "kernelspec": {
   "display_name": "Python 3",
   "language": "python",
   "name": "python3"
  },
  "language_info": {
   "codemirror_mode": {
    "name": "ipython",
    "version": 3
   },
   "file_extension": ".py",
   "mimetype": "text/x-python",
   "name": "python",
   "nbconvert_exporter": "python",
   "pygments_lexer": "ipython3",
   "version": "3.12.10"
  }
 },
 "nbformat": 4,
 "nbformat_minor": 5
}
