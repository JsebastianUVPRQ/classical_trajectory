{
 "cells": [
  {
   "cell_type": "markdown",
   "id": "1f1012d2",
   "metadata": {},
   "source": [
    "WE will do the following:\n",
    "1. Load an image\n",
    "2. With PCA, we will reduce the dimensionality of the image\n",
    "3. see the effect of the reduction of dimensionality in the image\n",
    "4. use fourier transform to see the frequency components of the image\n",
    "5. use wavelet transform to see the wavelet components of the image\n",
    "6. use fast fourier transform to see the frequency components of the image\n",
    "7. use fast wavelet transform to see the wavelet components of the image\n",
    "8. Comparar los resultados de las diferentes transformadas\\n\",\n",
    "9. Visualizar la reconstrucción de la imagen usando diferentes números de componentes\\n\",\n",
    "10. Analizar el error de reconstrucción vs número de componentes\\n\",\n",
    "11. Comparar el tiempo de procesamiento entre los diferentes métodos\\n\",\n",
    "12. Visualizar los coeficientes wavelet en diferentes escalas\\n\",\n",
    "13. Analizar el espectro de frecuencias usando FFT\\n\",\n",
    "14. Reconstruir la imagen usando diferentes bandas de frecuencia\"\n"
   ]
  },
  {
   "cell_type": "code",
   "execution_count": null,
   "id": "f937c5d8",
   "metadata": {},
   "outputs": [
    {
     "ename": "",
     "evalue": "",
     "output_type": "error",
     "traceback": [
      "\u001b[1;31mRunning cells with 'Python 3.12.10' requires the ipykernel package.\n",
      "\u001b[1;31mRun the following command to install 'ipykernel' into the Python environment. \n",
      "\u001b[1;31mCommand: 'c:/Users/Sebastian/AppData/Local/Microsoft/WindowsApps/python3.12.exe -m pip install ipykernel -U --user --force-reinstall'"
     ]
    }
   ],
   "source": [
    "# code implementation\n",
    "# Importar las bibliotecas necesarias\n",
    "import numpy as np\n",
    "import matplotlib.pyplot as plt\n",
    "from sklearn.decomposition import PCA\n",
    "from scipy.fftpack import fft2, ifft2, fftshift\n",
    "import pywt\n",
    "from skimage import io\n",
    "import time\n",
    "\n",
    "\n"
   ]
  },
  {
   "cell_type": "code",
   "execution_count": null,
   "id": "8b71c4c8",
   "metadata": {},
   "outputs": [],
   "source": [
    "\n",
    "# 1. Cargar una imagen\n",
    "imagen = io.imread('imagen_ejemplo.jpg', as_gray=True)\n",
    "\n",
    "# 2. Reducción de dimensionalidad con PCA\n",
    "def aplicar_pca(imagen, n_componentes):\n",
    "    pca = PCA(n_components=n_componentes)\n",
    "    imagen_reshape = imagen.reshape(-1, imagen.shape[1])\n",
    "    imagen_pca = pca.fit_transform(imagen_reshape)\n",
    "    imagen_reconstruida = pca.inverse_transform(imagen_pca)\n",
    "    return imagen_reconstruida.reshape(imagen.shape)\n",
    "\n"
   ]
  },
  {
   "cell_type": "code",
   "execution_count": null,
   "id": "7f454614",
   "metadata": {},
   "outputs": [],
   "source": [
    "# 3. Efecto de la reducción de dimensionalidad\n",
    "n_componentes = [5, 10, 20, 50]\n",
    "imagenes_pca = []\n",
    "for n in n_componentes:\n",
    "    img_pca = aplicar_pca(imagen, n)\n",
    "    imagenes_pca.append(img_pca)\n",
    "\n"
   ]
  },
  {
   "cell_type": "code",
   "execution_count": null,
   "id": "ec3368b8",
   "metadata": {},
   "outputs": [],
   "source": [
    "# 4. Transformada de Fourier\n",
    "fourier = fft2(imagen)\n",
    "fourier_shift = fftshift(fourier)\n",
    "espectro_fourier = np.log(np.abs(fourier_shift) + 1)"
   ]
  },
  {
   "cell_type": "code",
   "execution_count": null,
   "id": "d4b0f264",
   "metadata": {},
   "outputs": [],
   "source": [
    "# 5. Transformada Wavelet\n",
    "coefs = pywt.wavedec2(imagen, 'db1', level=3)\n",
    "imagen_wavelet = pywt.waverec2(coefs, 'db1')\n",
    "\n",
    "# 6. FFT\n",
    "tiempo_inicio = time.time()\n",
    "fft_resultado = fft2(imagen)\n",
    "tiempo_fft = time.time() - tiempo_inicio\n",
    "\n",
    "# 7. Fast Wavelet Transform\n",
    "tiempo_inicio = time.time()\n",
    "fwt_resultado = pywt.wavedec2(imagen, 'db1', level=3)\n",
    "tiempo_fwt = time.time() - tiempo_inicio\n",
    "\n"
   ]
  }
 ],
 "metadata": {
  "kernelspec": {
   "display_name": "Python 3",
   "language": "python",
   "name": "python3"
  },
  "language_info": {
   "name": "python",
   "version": "3.12.10"
  }
 },
 "nbformat": 4,
 "nbformat_minor": 5
}
