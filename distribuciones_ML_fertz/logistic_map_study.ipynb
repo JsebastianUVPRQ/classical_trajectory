{
 "cells": [
  {
   "cell_type": "code",
   "execution_count": null,
   "metadata": {},
   "outputs": [],
   "source": [
    "import numpy as np\n",
    "import matplotlib.pyplot as plt\n",
    "\n",
    "# Parámetros para la población\n",
    "X0 = 0.4  # Población inicial (puede estar entre 0 y 1)\n",
    "r = 4  # Parámetro de crecimiento\n",
    "n = 101  # Número de iteraciones\n",
    "\n",
    "# Inicializamos el array para almacenar los valores de población\n",
    "population = np.zeros(n)\n",
    "population[0] = X0\n",
    "\n",
    "# Simulación de la población\n",
    "for i in range(1, n):\n",
    "    population[i] = (r * population[i-1]) - r*(population[i-1])**2\n",
    "\n",
    "# Graficamos la población total contra el número de iteraciones\n",
    "plt.figure(figsize=(20, 10))\n",
    "plt.plot(range(n), population, marker='o')\n",
    "plt.title('Comportamiento de la Fracción Poblacional')\n",
    "plt.xlabel('Número de Iteración')\n",
    "plt.ylabel('$X_N$')\n",
    "plt.grid(True)\n",
    "plt.show\n"
   ]
  },
  {
   "cell_type": "code",
   "execution_count": null,
   "metadata": {},
   "outputs": [],
   "source": [
    "# Parámetros del mapeo logístico\n",
    "r = 1.47  # Factor de crecimiento (en rango no caótico para comportamiento ordenado)\n",
    "n = 100  # Número de iteraciones\n",
    "x0 = 0.2  # Valor inicial de x (debe estar en el intervalo (0, 1))\n",
    "\n",
    "# Inicializamos el array para almacenar los valores\n",
    "x_values = np.zeros(n)\n",
    "x_values[0] = x0\n",
    "\n",
    "# Aplicamos el mapeo logístico\n",
    "for i in range(1, n):\n",
    "    x_values[i] = r * x_values[i-1] * (1 - x_values[i-1])\n",
    "\n",
    "# Graficamos la población total contra el número de iteraciones\n",
    "plt.figure(figsize=(10, 6))\n",
    "plt.plot(range(n), x_values, 'bo-', markersize=3)\n",
    "plt.title('')\n",
    "plt.xlabel('Número de Iteración')\n",
    "plt.ylabel('')\n",
    "plt.grid(True)\n",
    "plt.show()\n"
   ]
  }
 ],
 "metadata": {
  "language_info": {
   "name": "python"
  }
 },
 "nbformat": 4,
 "nbformat_minor": 2
}
