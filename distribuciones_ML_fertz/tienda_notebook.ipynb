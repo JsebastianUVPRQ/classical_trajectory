{
 "cells": [
  {
   "cell_type": "code",
   "execution_count": null,
   "metadata": {},
   "outputs": [],
   "source": [
    "import numpy as np\n",
    "import matplotlib.pyplot as plt\n",
    "\n",
    "# Parámetros\n",
    "mu = 1.5  # Parámetro de control para el mapeo\n",
    "n = 50  # Número de iteraciones\n",
    "x0 = 0.2  # Valor inicial de x\n",
    "\n",
    "# Inicializamos el array para almacenar los valores\n",
    "x_values = np.zeros(n)\n",
    "x_values[0] = x0\n",
    "\n",
    "# Aplicamos el mapeo \"tienda de campaña\"\n",
    "for i in range(1, n):\n",
    "    if x_values[i-1] <= 0.5:\n",
    "        x_values[i] = mu * x_values[i-1]\n",
    "    else:\n",
    "        x_values[i] = mu * (1 - x_values[i-1])\n",
    "\n",
    "# Graficamos los puntos obtenidos\n",
    "plt.figure(figsize=(10, 6))\n",
    "plt.plot(range(n), x_values, 'bo-', markersize=5)\n",
    "plt.title('Mapeo \"Tienda de Campaña\" - Comportamiento Ordenado (μ = 1.5)')\n",
    "plt.xlabel('Número de Iteración')\n",
    "plt.ylabel('Valor de x')\n",
    "plt.grid(True)\n",
    "plt.show()\n"
   ]
  },
  {
   "cell_type": "code",
   "execution_count": null,
   "metadata": {},
   "outputs": [],
   "source": []
  }
 ],
 "metadata": {
  "language_info": {
   "name": "python"
  }
 },
 "nbformat": 4,
 "nbformat_minor": 2
}
